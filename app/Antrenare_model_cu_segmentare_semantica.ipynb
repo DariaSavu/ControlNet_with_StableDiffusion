{
 "cells": [
  {
   "cell_type": "code",
   "execution_count": 2,
   "id": "8f4a6dfa-1301-41a2-abb4-329ea01d1813",
   "metadata": {},
   "outputs": [
    {
     "name": "stderr",
     "output_type": "stream",
     "text": [
      "/home/zeus/miniconda3/envs/cloudspace/lib/python3.8/site-packages/tqdm/auto.py:21: TqdmWarning: IProgress not found. Please update jupyter and ipywidgets. See https://ipywidgets.readthedocs.io/en/stable/user_install.html\n",
      "  from .autonotebook import tqdm as notebook_tqdm\n"
     ]
    }
   ],
   "source": [
    "import json\n",
    "import cv2\n",
    "import numpy as np\n",
    "import h5py\n",
    "import torch\n",
    "from torch.utils.data import Dataset\n",
    "\n",
    "\n",
    "class MyDataset(Dataset):\n",
    "    def __init__(self):\n",
    "        self.data = []\n",
    "        with h5py.File('nyu_depth_v2_labeled.mat', 'r') as f:\n",
    "            images = f['images'][:]\n",
    "            labels = f['labels'][:]\n",
    "            for i in range(len(images)):\n",
    "                newimg=np.transpose(images[i], (2, 1, 0))\n",
    "                newlabel=np.transpose(labels[i], (1, 0))\n",
    "                new_width = newimg.shape[1] // 2\n",
    "                new_height = newimg.shape[0] // 2  \n",
    "                self.data.append({\n",
    "                    'image': cv2.resize(newimg, (256,256)),\n",
    "                    'label': cv2.resize(newlabel, (256, 256)) ,\n",
    "                    'prompt': 'An indoors design'\n",
    "                })\n",
    "        \n",
    "\n",
    "    def __len__(self):\n",
    "        return len(self.data)\n",
    "\n",
    "    def __getitem__(self, idx):\n",
    "        item = self.data[idx]\n",
    "\n",
    "        source = item['label']\n",
    "        target = item['image']\n",
    "        prompt = item['prompt']\n",
    "\n",
    "        # source = cv2.imread('./training/fill50k/' + source_filename)\n",
    "        # target = cv2.imread('./training/fill50k/' + target_filename)\n",
    "\n",
    "        # Do not forget that OpenCV read images in BGR order.\n",
    "        source = cv2.cvtColor(source, cv2.COLOR_BGR2RGB)\n",
    "        target = cv2.cvtColor(target, cv2.COLOR_BGR2RGB)\n",
    "\n",
    "        # Normalize source images to [0, 1].\n",
    "        source = source.astype(np.float32) / 255.0\n",
    "\n",
    "        # Normalize target images to [-1, 1].\n",
    "        target = (target.astype(np.float32) / 127.5) - 1.0\n",
    "\n",
    "        return {'jpg': target, 'txt': prompt, 'hint': source}"
   ]
  },
  {
   "cell_type": "code",
   "execution_count": 4,
   "id": "6a9d2e14-88ad-4f8e-82c8-bdd5c4ab0656",
   "metadata": {},
   "outputs": [
    {
     "name": "stdout",
     "output_type": "stream",
     "text": [
      "Processed 0/1449 images.\n",
      "Processed 10/1449 images.\n",
      "Processed 20/1449 images.\n",
      "Processed 30/1449 images.\n",
      "Processed 40/1449 images.\n",
      "Processed 50/1449 images.\n",
      "Processed 60/1449 images.\n",
      "Processed 70/1449 images.\n",
      "Processed 80/1449 images.\n",
      "Processed 90/1449 images.\n",
      "Processed 100/1449 images.\n",
      "Processed 110/1449 images.\n",
      "Processed 120/1449 images.\n",
      "Processed 130/1449 images.\n",
      "Processed 140/1449 images.\n",
      "Processed 150/1449 images.\n",
      "Processed 160/1449 images.\n",
      "Processed 170/1449 images.\n",
      "Processed 180/1449 images.\n",
      "Processed 190/1449 images.\n",
      "Processed 200/1449 images.\n",
      "Processed 210/1449 images.\n",
      "Processed 220/1449 images.\n",
      "Processed 230/1449 images.\n",
      "Processed 240/1449 images.\n",
      "Processed 250/1449 images.\n",
      "Processed 260/1449 images.\n",
      "Processed 270/1449 images.\n",
      "Processed 280/1449 images.\n",
      "Processed 290/1449 images.\n",
      "Processed 300/1449 images.\n",
      "Processed 310/1449 images.\n",
      "Processed 320/1449 images.\n",
      "Processed 330/1449 images.\n",
      "Processed 340/1449 images.\n",
      "Processed 350/1449 images.\n",
      "Processed 360/1449 images.\n",
      "Processed 370/1449 images.\n",
      "Processed 380/1449 images.\n",
      "Processed 390/1449 images.\n",
      "Processed 400/1449 images.\n",
      "Processed 410/1449 images.\n",
      "Processed 420/1449 images.\n",
      "Processed 430/1449 images.\n",
      "Processed 440/1449 images.\n",
      "Processed 450/1449 images.\n",
      "Processed 460/1449 images.\n",
      "Processed 470/1449 images.\n",
      "Processed 480/1449 images.\n",
      "Processed 490/1449 images.\n",
      "Processed 500/1449 images.\n",
      "Processed 510/1449 images.\n",
      "Processed 520/1449 images.\n",
      "Processed 530/1449 images.\n",
      "Processed 540/1449 images.\n",
      "Processed 550/1449 images.\n",
      "Processed 560/1449 images.\n",
      "Processed 570/1449 images.\n",
      "Processed 580/1449 images.\n",
      "Processed 590/1449 images.\n",
      "Processed 600/1449 images.\n",
      "Processed 610/1449 images.\n",
      "Processed 620/1449 images.\n",
      "Processed 630/1449 images.\n",
      "Processed 640/1449 images.\n",
      "Processed 650/1449 images.\n",
      "Processed 660/1449 images.\n",
      "Processed 670/1449 images.\n",
      "Processed 680/1449 images.\n",
      "Processed 690/1449 images.\n",
      "Processed 700/1449 images.\n",
      "Processed 710/1449 images.\n",
      "Processed 720/1449 images.\n",
      "Processed 730/1449 images.\n",
      "Processed 740/1449 images.\n",
      "Processed 750/1449 images.\n",
      "Processed 760/1449 images.\n",
      "Processed 770/1449 images.\n",
      "Processed 780/1449 images.\n",
      "Processed 790/1449 images.\n",
      "Processed 800/1449 images.\n",
      "Processed 810/1449 images.\n",
      "Processed 820/1449 images.\n",
      "Processed 830/1449 images.\n",
      "Processed 840/1449 images.\n",
      "Processed 850/1449 images.\n",
      "Processed 860/1449 images.\n",
      "Processed 870/1449 images.\n",
      "Processed 880/1449 images.\n",
      "Processed 890/1449 images.\n",
      "Processed 900/1449 images.\n",
      "Processed 910/1449 images.\n",
      "Processed 920/1449 images.\n",
      "Processed 930/1449 images.\n",
      "Processed 940/1449 images.\n",
      "Processed 950/1449 images.\n",
      "Processed 960/1449 images.\n",
      "Processed 970/1449 images.\n",
      "Processed 980/1449 images.\n",
      "Processed 990/1449 images.\n",
      "Processed 1000/1449 images.\n",
      "Processed 1010/1449 images.\n",
      "Processed 1020/1449 images.\n",
      "Processed 1030/1449 images.\n",
      "Processed 1040/1449 images.\n",
      "Processed 1050/1449 images.\n",
      "Processed 1060/1449 images.\n",
      "Processed 1070/1449 images.\n",
      "Processed 1080/1449 images.\n",
      "Processed 1090/1449 images.\n",
      "Processed 1100/1449 images.\n",
      "Processed 1110/1449 images.\n",
      "Processed 1120/1449 images.\n",
      "Processed 1130/1449 images.\n",
      "Processed 1140/1449 images.\n",
      "Processed 1150/1449 images.\n",
      "Processed 1160/1449 images.\n",
      "Processed 1170/1449 images.\n",
      "Processed 1180/1449 images.\n",
      "Processed 1190/1449 images.\n",
      "Processed 1200/1449 images.\n",
      "Processed 1210/1449 images.\n",
      "Processed 1220/1449 images.\n",
      "Processed 1230/1449 images.\n",
      "Processed 1240/1449 images.\n",
      "Processed 1250/1449 images.\n",
      "Processed 1260/1449 images.\n",
      "Processed 1270/1449 images.\n",
      "Processed 1280/1449 images.\n",
      "Processed 1290/1449 images.\n",
      "Processed 1300/1449 images.\n",
      "Processed 1310/1449 images.\n",
      "Processed 1320/1449 images.\n",
      "Processed 1330/1449 images.\n",
      "Processed 1340/1449 images.\n",
      "Processed 1350/1449 images.\n",
      "Processed 1360/1449 images.\n",
      "Processed 1370/1449 images.\n",
      "Processed 1380/1449 images.\n",
      "Processed 1390/1449 images.\n",
      "Processed 1400/1449 images.\n",
      "Processed 1410/1449 images.\n",
      "Processed 1420/1449 images.\n",
      "Processed 1430/1449 images.\n",
      "Processed 1440/1449 images.\n",
      "Dataset saving complete.\n"
     ]
    }
   ],
   "source": [
    "import os\n",
    "def save_dataset_to_folders(base_dir=\"output\"):\n",
    "\n",
    "    dataset=MyDataset()\n",
    "    # Create base directories if they don't exist\n",
    "    test_dir = os.path.join(base_dir, \"test\")\n",
    "    train_dir = os.path.join(base_dir, \"train\")\n",
    "    os.makedirs(test_dir, exist_ok=True)\n",
    "    os.makedirs(train_dir, exist_ok=True)\n",
    "\n",
    "    # Iterate through the dataset and save images\n",
    "    for idx in range(len(dataset)):\n",
    "        # Get the sample\n",
    "        sample = dataset[idx]\n",
    "        image = sample['jpg']  # Target image\n",
    "        hint = sample['hint']  # Source image\n",
    "        prompt = sample['txt']  # Prompt text\n",
    "\n",
    "        # Determine destination folder\n",
    "        if idx < 100:\n",
    "            folder = test_dir\n",
    "        else:\n",
    "            folder = train_dir\n",
    "\n",
    "        # Save the images\n",
    "        target_path = os.path.join(folder, f\"image_{idx:04d}.jpg\")\n",
    "        hint_path = os.path.join(folder, f\"hint_{idx:04d}.jpg\")\n",
    "        prompt_path = os.path.join(folder, f\"prompt_{idx:04d}.txt\")\n",
    "\n",
    "        # Save images as files\n",
    "        cv2.imwrite(target_path, (image + 1) * 127.5)  # De-normalize to [0, 255]\n",
    "        cv2.imwrite(hint_path, hint * 255.0)  # De-normalize to [0, 255]\n",
    "\n",
    "        # Save the prompt text\n",
    "        with open(prompt_path, 'w') as f:\n",
    "            f.write(prompt)\n",
    "\n",
    "        # Optionally, print progress\n",
    "        if idx % 10 == 0:\n",
    "            print(f\"Processed {idx}/{len(dataset)} images.\")\n",
    "\n",
    "    print(\"Dataset saving complete.\")\n",
    "save_dataset_to_folders()"
   ]
  },
  {
   "cell_type": "code",
   "execution_count": 5,
   "id": "8d8ac9ae-6c67-4fa5-824f-f197c2c89ac2",
   "metadata": {},
   "outputs": [],
   "source": [
    "import os\n",
    "import cv2\n",
    "import numpy as np\n",
    "from torch.utils.data import Dataset\n",
    "\n",
    "class MyDataset(Dataset):\n",
    "    def __init__(self, base_dir=\"output/train\"):\n",
    "\n",
    "        self.data = []\n",
    "\n",
    "        # Collect all image and prompt paths\n",
    "        for filename in os.listdir(base_dir):\n",
    "            if filename.endswith(\".jpg\") and filename.startswith(\"image_\"):\n",
    "                # Extract the index from the filename\n",
    "                idx = filename.split(\"_\")[1].split(\".\")[0]\n",
    "\n",
    "                # Get corresponding hint and prompt paths\n",
    "                image_path = os.path.join(base_dir, f\"image_{idx}.jpg\")\n",
    "                hint_path = os.path.join(base_dir, f\"hint_{idx}.jpg\")\n",
    "                prompt_path = os.path.join(base_dir, f\"prompt_{idx}.txt\")\n",
    "\n",
    "                # Check if all required files exist\n",
    "                if os.path.exists(image_path) and os.path.exists(hint_path) and os.path.exists(prompt_path):\n",
    "                    self.data.append({\n",
    "                        'image_path': image_path,\n",
    "                        'hint_path': hint_path,\n",
    "                        'prompt_path': prompt_path\n",
    "                    })\n",
    "\n",
    "    def __len__(self):\n",
    "        return len(self.data)\n",
    "\n",
    "    def __getitem__(self, idx):\n",
    "        item = self.data[idx]\n",
    "\n",
    "        # Load the image and hint from disk\n",
    "        image = cv2.imread(item['image_path'], cv2.IMREAD_COLOR)\n",
    "        hint = cv2.imread(item['hint_path'], cv2.IMREAD_COLOR)\n",
    "\n",
    "        # Load the prompt\n",
    "        with open(item['prompt_path'], 'r') as f:\n",
    "            prompt = f.read()\n",
    "\n",
    "        # Normalize images\n",
    "        image = (image.astype(np.float32) / 127.5) - 1.0  # Normalize to [-1, 1]\n",
    "        hint = hint.astype(np.float32) / 255.0  # Normalize to [0, 1]\n",
    "\n",
    "        return {'jpg': image, 'txt': prompt, 'hint': hint}\n"
   ]
  },
  {
   "cell_type": "code",
   "execution_count": 6,
   "id": "049c7a57-3b4f-4e4b-9172-a2f7c848f49a",
   "metadata": {},
   "outputs": [
    {
     "name": "stderr",
     "output_type": "stream",
     "text": [
      "Clipping input data to the valid range for imshow with RGB data ([0..1] for floats or [0..255] for integers).\n"
     ]
    },
    {
     "name": "stdout",
     "output_type": "stream",
     "text": [
      "1349\n",
      "An indoors design\n",
      "(256, 256, 3)\n",
      "(256, 256, 3)\n"
     ]
    },
    {
     "data": {
      "image/png": "[encoded data removed]",
      "text/plain": [
       "<Figure size 640x480 with 1 Axes>"
      ]
     },
     "metadata": {},
     "output_type": "display_data"
    },
    {
     "data": {
      "image/png": "[encoded data removed]",
      "text/plain": [
       "<Figure size 640x480 with 1 Axes>"
      ]
     },
     "metadata": {},
     "output_type": "display_data"
    }
   ],
   "source": [
    "import matplotlib.pyplot as plt\n",
    "dataset = MyDataset()\n",
    "print(len(dataset))\n",
    "\n",
    "item = dataset[10]\n",
    "jpg = item['jpg']\n",
    "txt = item['txt']\n",
    "hint = item['hint']\n",
    "print(txt)\n",
    "print(jpg.shape)\n",
    "print(hint.shape)\n",
    "\n",
    "plt.imshow(jpg, cmap='gray' if jpg.ndim == 2 else None)\n",
    "plt.axis('off')  # Turn off axis labels for a cleaner display\n",
    "plt.show()\n",
    "\n",
    "plt.imshow(hint, cmap='gray' if hint.ndim == 2 else None)\n",
    "plt.axis('off')  # Turn off axis labels for a cleaner display\n",
    "plt.show()"
   ]
  },
  {
   "cell_type": "code",
   "execution_count": 7,
   "id": "e79ca244-6af7-477a-9f84-820a73b693eb",
   "metadata": {},
   "outputs": [
    {
     "name": "stderr",
     "output_type": "stream",
     "text": [
      "/home/zeus/miniconda3/envs/cloudspace/lib/python3.8/site-packages/torchvision/io/image.py:13: UserWarning: Failed to load image Python extension: libc10_cuda.so: cannot open shared object file: No such file or directory\n",
      "  warn(f\"Failed to load image Python extension: {e}\")\n"
     ]
    }
   ],
   "source": [
    "import pytorch_lightning as pl\n",
    "import csv\n",
    "from pytorch_lightning.callbacks import Callback\n",
    "\n",
    "class LossLoggerCallback(Callback):\n",
    "    def __init__(self):\n",
    "        super().__init__()\n",
    "        self.losses = []\n",
    "\n",
    "    def on_train_batch_end(self, trainer, pl_module, outputs, batch, batch_idx):\n",
    "        # Log the loss at each training batch end\n",
    "        loss = outputs['loss'].detach().cpu().item()  # Make sure to detach from the graph\n",
    "        self.losses.append(loss)\n",
    "\n",
    "    def on_train_end(self, trainer, pl_module):\n",
    "        # Save the loss history to a CSV file at the end of training\n",
    "        with open('./training_losses64v2.csv', 'w') as f:\n",
    "            writer = csv.writer(f)\n",
    "            writer.writerow(['Step', 'Loss'])\n",
    "            for i, loss in enumerate(self.losses):\n",
    "                writer.writerow([i, loss])\n",
    "        print(\"Training losses saved to './training_losses.csv'\")\n"
   ]
  },
  {
   "cell_type": "code",
   "execution_count": null,
   "id": "ab571553-112c-4992-8fc9-79c2d5253d10",
   "metadata": {},
   "outputs": [
    {
     "name": "stdout",
     "output_type": "stream",
     "text": [
      "logging improved.\n",
      "No module 'xformers'. Proceeding without it.\n",
      "ControlLDM: Running in eps-prediction mode\n",
      "DiffusionWrapper has 859.52 M params.\n",
      "making attention of type 'vanilla' with 512 in_channels\n",
      "Working with z of shape (1, 4, 32, 32) = 4096 dimensions.\n",
      "making attention of type 'vanilla' with 512 in_channels\n",
      "Loaded model config from [./models/cldm_v15.yaml]\n",
      "Loaded state_dict from [./models/control_sd15_seg.pth]\n"
     ]
    }
   ],
   "source": [
    "from share import *\n",
    "\n",
    "import pytorch_lightning as pl\n",
    "from torch.utils.data import DataLoader\n",
    "from cldm.logger import ImageLogger\n",
    "from cldm.model import create_model, load_state_dict\n",
    "from pytorch_lightning.callbacks import ModelCheckpoint\n",
    "\n",
    "\n",
    "# Configs\n",
    "resume_path = './models/control_sd15_seg.pth'\n",
    "save_path = './models/64v2_updated_control_sd15_seg.pth'\n",
    "batch_size = 64\n",
    "logger_freq = 300\n",
    "learning_rate = 1e-4\n",
    "sd_locked = True\n",
    "only_mid_control = False\n",
    "\n",
    "\n",
    "# First use cpu to load models. Pytorch Lightning will automatically move it to GPUs.\n",
    "model = create_model('./models/cldm_v15.yaml').cpu()\n",
    "model.load_state_dict(load_state_dict(resume_path, location='cpu'))\n",
    "model.learning_rate = learning_rate\n",
    "model.sd_locked = sd_locked\n",
    "model.only_mid_control = only_mid_control\n",
    "loss_logger_callback = LossLoggerCallback()\n",
    "\n",
    "checkpoint_callback = ModelCheckpoint(\n",
    "    dirpath='./models',            \n",
    "    filename='64v2_updated_control_sd15_seg',\n",
    "    save_top_k=1                               \n",
    ")\n",
    "\n",
    "\n",
    "# Misc\n",
    "dataset = MyDataset()\n",
    "dataloader = DataLoader(dataset, num_workers=0, batch_size=batch_size, shuffle=True)\n",
    "logger = ImageLogger(batch_frequency=logger_freq)\n",
    "trainer = pl.Trainer(gpus=1, precision=32, callbacks=[logger,checkpoint_callback,loss_logger_callback],max_epochs=12)\n",
    "\n",
    "\n",
    "# Train!\n",
    "trainer.fit(model, dataloader)"
   ]
  },
  {
   "cell_type": "code",
   "execution_count": 14,
   "id": "02b1442e-8614-4b73-8e5e-35b9729f4ebf",
   "metadata": {},
   "outputs": [
    {
     "data": {
      "image/png": "[encoded data removed]",
      "text/plain": [
       "<Figure size 640x480 with 1 Axes>"
      ]
     },
     "metadata": {},
     "output_type": "display_data"
    }
   ],
   "source": [
    "# Sample every 100th point for a cleaner plot\n",
    "import matplotlib.pyplot as plt\n",
    "import pandas as pd\n",
    "import numpy as np\n",
    "\n",
    "# Load the loss data\n",
    "loss_data = pd.read_csv('./training_losses64.csv')\n",
    "\n",
    "# Extract only the loss values as an array\n",
    "ypoints = np.array(loss_data['Loss'])\n",
    "\n",
    "sampled_ypoints = ypoints[::100]  # Adjust the number to control how many points to skip\n",
    "\n",
    "plt.plot(sampled_ypoints, linestyle='-', marker='', color='b')  # No marker, just a line\n",
    "plt.xlabel('Training Step (sampled)')\n",
    "plt.ylabel('Loss')\n",
    "plt.title('Training Loss over Time')\n",
    "plt.grid(True)\n",
    "plt.show()\n"
   ]
  },
  {
   "cell_type": "code",
   "execution_count": 15,
   "id": "69e97905-9a28-4382-9a68-0f3fb059a08d",
   "metadata": {},
   "outputs": [
    {
     "name": "stdout",
     "output_type": "stream",
     "text": [
      "ControlLDM: Running in eps-prediction mode\n",
      "DiffusionWrapper has 859.52 M params.\n",
      "making attention of type 'vanilla' with 512 in_channels\n",
      "Working with z of shape (1, 4, 32, 32) = 4096 dimensions.\n",
      "making attention of type 'vanilla' with 512 in_channels\n",
      "Loaded model config from [./models/cldm_v15.yaml]\n",
      "Loaded state_dict from [./models/64_updated_control_sd15_seg.ckpt]\n",
      "Use Checkpoint: False\n",
      "Checkpoint Number: [0, 0, 0, 0]\n",
      "Use global window for all blocks in stage3\n",
      "load checkpoint from local path: /teamspace/studios/this_studio/ControlNet/annotator/ckpts/upernet_global_small.pth\n"
     ]
    }
   ],
   "source": [
    "from pytorch_lightning import seed_everything\n",
    "from annotator.util import resize_image, HWC3\n",
    "from annotator.uniformer import UniformerDetector\n",
    "from cldm.model import create_model, load_state_dict\n",
    "from cldm.ddim_hacked import DDIMSampler\n",
    "\n",
    "save_path = './models/64_updated_control_sd15_seg.ckpt'\n",
    "model = create_model('./models/cldm_v15.yaml').cpu()\n",
    "model.load_state_dict(load_state_dict(save_path, location='cuda'))\n",
    "model=model.cuda()\n",
    "ddim_sampler = DDIMSampler(model)\n",
    "apply_uniformer = UniformerDetector()"
   ]
  },
  {
   "cell_type": "code",
   "execution_count": 16,
   "id": "d440d62b-de8b-4853-886a-2358335e458a",
   "metadata": {},
   "outputs": [],
   "source": [
    "import torch\n",
    "import random\n",
    "import einops\n",
    "import numpy as np\n",
    "import cv2\n",
    "import config\n",
    "\n",
    "def process(input_images, prompt, a_prompt, n_prompt, num_samples, image_resolution, detect_resolution, ddim_steps, guess_mode, strength, scale, seed, eta):\n",
    "    results = []\n",
    "    with torch.no_grad():\n",
    "        for input_image in input_images:\n",
    "            # Preprocess the input image\n",
    "            input_image = HWC3(input_image)\n",
    "            detected_map = apply_uniformer(resize_image(input_image, detect_resolution))\n",
    "            img = resize_image(input_image, image_resolution)\n",
    "            H, W, C = img.shape\n",
    "\n",
    "            detected_map = cv2.resize(detected_map, (W, H), interpolation=cv2.INTER_NEAREST)\n",
    "\n",
    "            # Prepare control tensor\n",
    "            control = torch.from_numpy(detected_map.copy()).float().cuda() / 255.0\n",
    "            control = torch.stack([control for _ in range(num_samples)], dim=0)\n",
    "            control = einops.rearrange(control, 'b h w c -> b c h w').clone()\n",
    "\n",
    "            # Set the random seed if needed\n",
    "            if seed == -1:\n",
    "                seed = random.randint(0, 65535)\n",
    "            seed_everything(seed)\n",
    "\n",
    "            # Adjust memory settings if configured\n",
    "            if config.save_memory:\n",
    "                model.low_vram_shift(is_diffusing=False)\n",
    "\n",
    "            # Prepare conditioning and unconditioning\n",
    "            cond = {\n",
    "                \"c_concat\": [control], \n",
    "                \"c_crossattn\": [model.get_learned_conditioning([prompt + ', ' + a_prompt] * num_samples)]\n",
    "            }\n",
    "            un_cond = {\n",
    "                \"c_concat\": None if guess_mode else [control], \n",
    "                \"c_crossattn\": [model.get_learned_conditioning([n_prompt] * num_samples)]\n",
    "            }\n",
    "            shape = (4, H // 8, W // 8)\n",
    "\n",
    "            if config.save_memory:\n",
    "                model.low_vram_shift(is_diffusing=True)\n",
    "\n",
    "            # Apply control scales\n",
    "            model.control_scales = ([strength * (0.825 ** float(12 - i)) for i in range(13)] if guess_mode else [strength] * 13)\n",
    "\n",
    "            # Run sampling\n",
    "            samples, intermediates = ddim_sampler.sample(\n",
    "                ddim_steps, num_samples, shape, cond, verbose=False, eta=eta,\n",
    "                unconditional_guidance_scale=scale,\n",
    "                unconditional_conditioning=un_cond\n",
    "            )\n",
    "\n",
    "            if config.save_memory:\n",
    "                model.low_vram_shift(is_diffusing=False)\n",
    "\n",
    "            # Decode the generated samples\n",
    "            x_samples = model.decode_first_stage(samples)\n",
    "            x_samples = (einops.rearrange(x_samples, 'b c h w -> b h w c') * 127.5 + 127.5).cpu().numpy().clip(0, 255).astype(np.uint8)\n",
    "\n",
    "            # Take the first generated result from the batch as the single output image\n",
    "            results.append(x_samples[0])  # Only taking the first image in each batch\n",
    "\n",
    "    # Return the processed results for each input image\n",
    "    return results"
   ]
  },
  {
   "cell_type": "code",
   "execution_count": 8,
   "id": "3c2b96ed-283e-4c88-a391-9add78863dfd",
   "metadata": {},
   "outputs": [
    {
     "name": "stdout",
     "output_type": "stream",
     "text": [
      "Loaded 2698 images.\n"
     ]
    }
   ],
   "source": [
    "import os\n",
    "import cv2\n",
    "\n",
    "# Define the folder containing the images\n",
    "input_folder = './output/train'  # Replace with the path to your folder\n",
    "\n",
    "# List to store loaded images\n",
    "image_list = []\n",
    "\n",
    "# Get the list of all files in the folder\n",
    "image_files = [f for f in os.listdir(input_folder) if f.endswith(('.png', '.jpg', '.jpeg', '.bmp', '.tiff'))]  # You can adjust file extensions\n",
    "\n",
    "# Loop through all image files\n",
    "for filename in image_files:\n",
    "    # Construct the full path to the image\n",
    "    img_path = os.path.join(input_folder, filename)\n",
    "\n",
    "    # Read the image using OpenCV\n",
    "    img = cv2.imread(img_path)\n",
    "\n",
    "    if img is not None:\n",
    "        # Add the image to the list\n",
    "        image_list.append(img)\n",
    "    else:\n",
    "        print(f\"Failed to load image: {img_path}\")\n",
    "\n",
    "# Now image_list contains all the images\n",
    "print(f\"Loaded {len(image_list)} images.\")\n"
   ]
  },
  {
   "cell_type": "code",
   "execution_count": 17,
   "id": "5ee0ae0a-00f0-4e79-8f23-6de8afd11aa0",
   "metadata": {},
   "outputs": [
    {
     "name": "stderr",
     "output_type": "stream",
     "text": [
      "/teamspace/studios/this_studio/ControlNet/annotator/uniformer/mmseg/models/segmentors/base.py:271: UserWarning: show==False and out_file is not specified, only result image will be returned\n",
      "  warnings.warn('show==False and out_file is not specified, only '\n",
      "Global seed set to 42\n"
     ]
    },
    {
     "name": "stdout",
     "output_type": "stream",
     "text": [
      "./output/test/hint_0021.jpg\n",
      "./output/test/hint_0020.jpg\n",
      "./output/test/hint_0016.jpg\n",
      "./output/test/hint_0026.jpg\n",
      "./output/test/hint_0047.jpg\n",
      "./output/test/hint_0018.jpg\n",
      "./output/test/hint_0067.jpg\n",
      "./output/test/hint_0081.jpg\n",
      "./output/test/hint_0050.jpg\n",
      "./output/test/hint_0036.jpg\n",
      "./output/test/hint_0013.jpg\n",
      "./output/test/hint_0042.jpg\n",
      "./output/test/hint_0090.jpg\n",
      "./output/test/hint_0049.jpg\n",
      "./output/test/hint_0099.jpg\n",
      "./output/test/hint_0074.jpg\n",
      "./output/test/hint_0070.jpg\n",
      "./output/test/hint_0017.jpg\n",
      "./output/test/hint_0059.jpg\n",
      "./output/test/hint_0084.jpg\n",
      "./output/test/hint_0061.jpg\n",
      "./output/test/hint_0048.jpg\n",
      "./output/test/hint_0060.jpg\n",
      "./output/test/hint_0075.jpg\n",
      "./output/test/hint_0091.jpg\n",
      "./output/test/hint_0024.jpg\n",
      "./output/test/hint_0006.jpg\n",
      "./output/test/hint_0051.jpg\n",
      "./output/test/hint_0037.jpg\n",
      "./output/test/hint_0062.jpg\n",
      "./output/test/hint_0035.jpg\n",
      "./output/test/hint_0000.jpg\n",
      "./output/test/hint_0093.jpg\n",
      "./output/test/hint_0097.jpg\n",
      "./output/test/hint_0032.jpg\n",
      "./output/test/hint_0038.jpg\n",
      "./output/test/hint_0005.jpg\n",
      "./output/test/hint_0029.jpg\n",
      "./output/test/hint_0040.jpg\n",
      "./output/test/hint_0022.jpg\n",
      "./output/test/hint_0046.jpg\n",
      "./output/test/hint_0056.jpg\n",
      "./output/test/hint_0025.jpg\n",
      "./output/test/hint_0095.jpg\n",
      "./output/test/hint_0030.jpg\n",
      "./output/test/hint_0083.jpg\n",
      "./output/test/hint_0028.jpg\n",
      "./output/test/hint_0094.jpg\n",
      "./output/test/hint_0096.jpg\n",
      "./output/test/hint_0007.jpg\n",
      "./output/test/hint_0073.jpg\n",
      "./output/test/hint_0009.jpg\n",
      "./output/test/hint_0044.jpg\n",
      "./output/test/hint_0041.jpg\n",
      "./output/test/hint_0001.jpg\n",
      "./output/test/hint_0019.jpg\n",
      "./output/test/hint_0012.jpg\n",
      "./output/test/hint_0080.jpg\n",
      "./output/test/hint_0077.jpg\n",
      "./output/test/hint_0082.jpg\n",
      "./output/test/hint_0071.jpg\n",
      "./output/test/hint_0023.jpg\n",
      "./output/test/hint_0004.jpg\n",
      "./output/test/hint_0033.jpg\n",
      "./output/test/hint_0098.jpg\n",
      "./output/test/hint_0043.jpg\n",
      "./output/test/hint_0039.jpg\n",
      "./output/test/hint_0072.jpg\n",
      "./output/test/hint_0031.jpg\n",
      "./output/test/hint_0014.jpg\n",
      "./output/test/hint_0055.jpg\n",
      "./output/test/hint_0085.jpg\n",
      "./output/test/hint_0087.jpg\n",
      "./output/test/hint_0058.jpg\n",
      "./output/test/hint_0057.jpg\n",
      "./output/test/hint_0076.jpg\n",
      "./output/test/hint_0045.jpg\n",
      "./output/test/hint_0008.jpg\n",
      "./output/test/hint_0034.jpg\n",
      "./output/test/hint_0078.jpg\n",
      "./output/test/hint_0069.jpg\n",
      "./output/test/hint_0068.jpg\n",
      "./output/test/hint_0054.jpg\n",
      "./output/test/hint_0010.jpg\n",
      "./output/test/hint_0079.jpg\n",
      "./output/test/hint_0053.jpg\n",
      "./output/test/hint_0063.jpg\n",
      "./output/test/hint_0015.jpg\n",
      "./output/test/hint_0086.jpg\n",
      "./output/test/hint_0065.jpg\n",
      "./output/test/hint_0089.jpg\n",
      "./output/test/hint_0027.jpg\n",
      "./output/test/hint_0092.jpg\n",
      "./output/test/hint_0066.jpg\n",
      "./output/test/hint_0002.jpg\n",
      "./output/test/hint_0052.jpg\n",
      "./output/test/hint_0064.jpg\n",
      "./output/test/hint_0003.jpg\n",
      "./output/test/hint_0011.jpg\n",
      "./output/test/hint_0088.jpg\n",
      "Data shape for DDIM sampling is (1, 4, 32, 32), eta 0.0\n",
      "Running DDIM Sampling with 50 timesteps\n"
     ]
    },
    {
     "name": "stderr",
     "output_type": "stream",
     "text": [
      "DDIM Sampler: 100%|██████████| 50/50 [00:06<00:00,  7.50it/s]\n",
      "Global seed set to 42\n"
     ]
    },
    {
     "name": "stdout",
     "output_type": "stream",
     "text": [
      "Data shape for DDIM sampling is (1, 4, 32, 32), eta 0.0\n",
      "Running DDIM Sampling with 50 timesteps\n"
     ]
    },
    {
     "name": "stderr",
     "output_type": "stream",
     "text": [
      "DDIM Sampler: 100%|██████████| 50/50 [00:06<00:00,  7.48it/s]\n",
      "Global seed set to 42\n"
     ]
    },
    {
     "name": "stdout",
     "output_type": "stream",
     "text": [
      "Data shape for DDIM sampling is (1, 4, 32, 32), eta 0.0\n",
      "Running DDIM Sampling with 50 timesteps\n"
     ]
    },
    {
     "name": "stderr",
     "output_type": "stream",
     "text": [
      "DDIM Sampler: 100%|██████████| 50/50 [00:06<00:00,  7.48it/s]\n",
      "Global seed set to 42\n"
     ]
    },
    {
     "name": "stdout",
     "output_type": "stream",
     "text": [
      "Data shape for DDIM sampling is (1, 4, 32, 32), eta 0.0\n",
      "Running DDIM Sampling with 50 timesteps\n"
     ]
    },
    {
     "name": "stderr",
     "output_type": "stream",
     "text": [
      "DDIM Sampler: 100%|██████████| 50/50 [00:06<00:00,  7.56it/s]\n",
      "Global seed set to 42\n"
     ]
    },
    {
     "name": "stdout",
     "output_type": "stream",
     "text": [
      "Data shape for DDIM sampling is (1, 4, 32, 32), eta 0.0\n",
      "Running DDIM Sampling with 50 timesteps\n"
     ]
    },
    {
     "name": "stderr",
     "output_type": "stream",
     "text": [
      "DDIM Sampler: 100%|██████████| 50/50 [00:06<00:00,  7.54it/s]\n",
      "Global seed set to 42\n"
     ]
    },
    {
     "name": "stdout",
     "output_type": "stream",
     "text": [
      "Data shape for DDIM sampling is (1, 4, 32, 32), eta 0.0\n",
      "Running DDIM Sampling with 50 timesteps\n"
     ]
    },
    {
     "name": "stderr",
     "output_type": "stream",
     "text": [
      "DDIM Sampler: 100%|██████████| 50/50 [00:06<00:00,  7.54it/s]\n",
      "Global seed set to 42\n"
     ]
    },
    {
     "name": "stdout",
     "output_type": "stream",
     "text": [
      "Data shape for DDIM sampling is (1, 4, 32, 32), eta 0.0\n",
      "Running DDIM Sampling with 50 timesteps\n"
     ]
    },
    {
     "name": "stderr",
     "output_type": "stream",
     "text": [
      "DDIM Sampler: 100%|██████████| 50/50 [00:06<00:00,  7.55it/s]\n",
      "Global seed set to 42\n"
     ]
    },
    {
     "name": "stdout",
     "output_type": "stream",
     "text": [
      "Data shape for DDIM sampling is (1, 4, 32, 32), eta 0.0\n",
      "Running DDIM Sampling with 50 timesteps\n"
     ]
    },
    {
     "name": "stderr",
     "output_type": "stream",
     "text": [
      "DDIM Sampler: 100%|██████████| 50/50 [00:06<00:00,  7.58it/s]\n",
      "Global seed set to 42\n"
     ]
    },
    {
     "name": "stdout",
     "output_type": "stream",
     "text": [
      "Data shape for DDIM sampling is (1, 4, 32, 32), eta 0.0\n",
      "Running DDIM Sampling with 50 timesteps\n"
     ]
    },
    {
     "name": "stderr",
     "output_type": "stream",
     "text": [
      "DDIM Sampler: 100%|██████████| 50/50 [00:06<00:00,  7.57it/s]\n",
      "Global seed set to 42\n"
     ]
    },
    {
     "name": "stdout",
     "output_type": "stream",
     "text": [
      "Data shape for DDIM sampling is (1, 4, 32, 32), eta 0.0\n",
      "Running DDIM Sampling with 50 timesteps\n"
     ]
    },
    {
     "name": "stderr",
     "output_type": "stream",
     "text": [
      "DDIM Sampler: 100%|██████████| 50/50 [00:06<00:00,  7.47it/s]\n",
      "Global seed set to 42\n"
     ]
    },
    {
     "name": "stdout",
     "output_type": "stream",
     "text": [
      "Data shape for DDIM sampling is (1, 4, 32, 32), eta 0.0\n",
      "Running DDIM Sampling with 50 timesteps\n"
     ]
    },
    {
     "name": "stderr",
     "output_type": "stream",
     "text": [
      "DDIM Sampler: 100%|██████████| 50/50 [00:06<00:00,  7.52it/s]\n",
      "Global seed set to 42\n"
     ]
    },
    {
     "name": "stdout",
     "output_type": "stream",
     "text": [
      "Data shape for DDIM sampling is (1, 4, 32, 32), eta 0.0\n",
      "Running DDIM Sampling with 50 timesteps\n"
     ]
    },
    {
     "name": "stderr",
     "output_type": "stream",
     "text": [
      "DDIM Sampler: 100%|██████████| 50/50 [00:06<00:00,  7.47it/s]\n",
      "Global seed set to 42\n"
     ]
    },
    {
     "name": "stdout",
     "output_type": "stream",
     "text": [
      "Data shape for DDIM sampling is (1, 4, 32, 32), eta 0.0\n",
      "Running DDIM Sampling with 50 timesteps\n"
     ]
    },
    {
     "name": "stderr",
     "output_type": "stream",
     "text": [
      "DDIM Sampler: 100%|██████████| 50/50 [00:06<00:00,  7.54it/s]\n",
      "Global seed set to 42\n"
     ]
    },
    {
     "name": "stdout",
     "output_type": "stream",
     "text": [
      "Data shape for DDIM sampling is (1, 4, 32, 32), eta 0.0\n",
      "Running DDIM Sampling with 50 timesteps\n"
     ]
    },
    {
     "name": "stderr",
     "output_type": "stream",
     "text": [
      "DDIM Sampler: 100%|██████████| 50/50 [00:06<00:00,  7.52it/s]\n",
      "Global seed set to 42\n"
     ]
    },
    {
     "name": "stdout",
     "output_type": "stream",
     "text": [
      "Data shape for DDIM sampling is (1, 4, 32, 32), eta 0.0\n",
      "Running DDIM Sampling with 50 timesteps\n"
     ]
    },
    {
     "name": "stderr",
     "output_type": "stream",
     "text": [
      "DDIM Sampler: 100%|██████████| 50/50 [00:06<00:00,  7.56it/s]\n",
      "Global seed set to 42\n"
     ]
    },
    {
     "name": "stdout",
     "output_type": "stream",
     "text": [
      "Data shape for DDIM sampling is (1, 4, 32, 32), eta 0.0\n",
      "Running DDIM Sampling with 50 timesteps\n"
     ]
    },
    {
     "name": "stderr",
     "output_type": "stream",
     "text": [
      "DDIM Sampler: 100%|██████████| 50/50 [00:06<00:00,  7.57it/s]\n",
      "Global seed set to 42\n"
     ]
    },
    {
     "name": "stdout",
     "output_type": "stream",
     "text": [
      "Data shape for DDIM sampling is (1, 4, 32, 32), eta 0.0\n",
      "Running DDIM Sampling with 50 timesteps\n"
     ]
    },
    {
     "name": "stderr",
     "output_type": "stream",
     "text": [
      "DDIM Sampler: 100%|██████████| 50/50 [00:06<00:00,  7.56it/s]\n",
      "Global seed set to 42\n"
     ]
    },
    {
     "name": "stdout",
     "output_type": "stream",
     "text": [
      "Data shape for DDIM sampling is (1, 4, 32, 32), eta 0.0\n",
      "Running DDIM Sampling with 50 timesteps\n"
     ]
    },
    {
     "name": "stderr",
     "output_type": "stream",
     "text": [
      "DDIM Sampler: 100%|██████████| 50/50 [00:06<00:00,  7.54it/s]\n",
      "Global seed set to 42\n"
     ]
    },
    {
     "name": "stdout",
     "output_type": "stream",
     "text": [
      "Data shape for DDIM sampling is (1, 4, 32, 32), eta 0.0\n",
      "Running DDIM Sampling with 50 timesteps\n"
     ]
    },
    {
     "name": "stderr",
     "output_type": "stream",
     "text": [
      "DDIM Sampler: 100%|██████████| 50/50 [00:06<00:00,  7.50it/s]\n",
      "Global seed set to 42\n"
     ]
    },
    {
     "name": "stdout",
     "output_type": "stream",
     "text": [
      "Data shape for DDIM sampling is (1, 4, 32, 32), eta 0.0\n",
      "Running DDIM Sampling with 50 timesteps\n"
     ]
    },
    {
     "name": "stderr",
     "output_type": "stream",
     "text": [
      "DDIM Sampler: 100%|██████████| 50/50 [00:06<00:00,  7.49it/s]\n",
      "Global seed set to 42\n"
     ]
    },
    {
     "name": "stdout",
     "output_type": "stream",
     "text": [
      "Data shape for DDIM sampling is (1, 4, 32, 32), eta 0.0\n",
      "Running DDIM Sampling with 50 timesteps\n"
     ]
    },
    {
     "name": "stderr",
     "output_type": "stream",
     "text": [
      "DDIM Sampler: 100%|██████████| 50/50 [00:06<00:00,  7.50it/s]\n",
      "Global seed set to 42\n"
     ]
    },
    {
     "name": "stdout",
     "output_type": "stream",
     "text": [
      "Data shape for DDIM sampling is (1, 4, 32, 32), eta 0.0\n",
      "Running DDIM Sampling with 50 timesteps\n"
     ]
    },
    {
     "name": "stderr",
     "output_type": "stream",
     "text": [
      "DDIM Sampler: 100%|██████████| 50/50 [00:06<00:00,  7.55it/s]\n",
      "Global seed set to 42\n"
     ]
    },
    {
     "name": "stdout",
     "output_type": "stream",
     "text": [
      "Data shape for DDIM sampling is (1, 4, 32, 32), eta 0.0\n",
      "Running DDIM Sampling with 50 timesteps\n"
     ]
    },
    {
     "name": "stderr",
     "output_type": "stream",
     "text": [
      "DDIM Sampler: 100%|██████████| 50/50 [00:06<00:00,  7.53it/s]\n",
      "Global seed set to 42\n"
     ]
    },
    {
     "name": "stdout",
     "output_type": "stream",
     "text": [
      "Data shape for DDIM sampling is (1, 4, 32, 32), eta 0.0\n",
      "Running DDIM Sampling with 50 timesteps\n"
     ]
    },
    {
     "name": "stderr",
     "output_type": "stream",
     "text": [
      "DDIM Sampler: 100%|██████████| 50/50 [00:06<00:00,  7.55it/s]\n",
      "Global seed set to 42\n"
     ]
    },
    {
     "name": "stdout",
     "output_type": "stream",
     "text": [
      "Data shape for DDIM sampling is (1, 4, 32, 32), eta 0.0\n",
      "Running DDIM Sampling with 50 timesteps\n"
     ]
    },
    {
     "name": "stderr",
     "output_type": "stream",
     "text": [
      "DDIM Sampler: 100%|██████████| 50/50 [00:06<00:00,  7.53it/s]\n",
      "Global seed set to 42\n"
     ]
    },
    {
     "name": "stdout",
     "output_type": "stream",
     "text": [
      "Data shape for DDIM sampling is (1, 4, 32, 32), eta 0.0\n",
      "Running DDIM Sampling with 50 timesteps\n"
     ]
    },
    {
     "name": "stderr",
     "output_type": "stream",
     "text": [
      "DDIM Sampler: 100%|██████████| 50/50 [00:06<00:00,  7.53it/s]\n",
      "Global seed set to 42\n"
     ]
    },
    {
     "name": "stdout",
     "output_type": "stream",
     "text": [
      "Data shape for DDIM sampling is (1, 4, 32, 32), eta 0.0\n",
      "Running DDIM Sampling with 50 timesteps\n"
     ]
    },
    {
     "name": "stderr",
     "output_type": "stream",
     "text": [
      "DDIM Sampler: 100%|██████████| 50/50 [00:06<00:00,  7.54it/s]\n",
      "Global seed set to 42\n"
     ]
    },
    {
     "name": "stdout",
     "output_type": "stream",
     "text": [
      "Data shape for DDIM sampling is (1, 4, 32, 32), eta 0.0\n",
      "Running DDIM Sampling with 50 timesteps\n"
     ]
    },
    {
     "name": "stderr",
     "output_type": "stream",
     "text": [
      "DDIM Sampler: 100%|██████████| 50/50 [00:06<00:00,  7.52it/s]\n",
      "Global seed set to 42\n"
     ]
    },
    {
     "name": "stdout",
     "output_type": "stream",
     "text": [
      "Data shape for DDIM sampling is (1, 4, 32, 32), eta 0.0\n",
      "Running DDIM Sampling with 50 timesteps\n"
     ]
    },
    {
     "name": "stderr",
     "output_type": "stream",
     "text": [
      "DDIM Sampler: 100%|██████████| 50/50 [00:06<00:00,  7.54it/s]\n",
      "Global seed set to 42\n"
     ]
    },
    {
     "name": "stdout",
     "output_type": "stream",
     "text": [
      "Data shape for DDIM sampling is (1, 4, 32, 32), eta 0.0\n",
      "Running DDIM Sampling with 50 timesteps\n"
     ]
    },
    {
     "name": "stderr",
     "output_type": "stream",
     "text": [
      "DDIM Sampler: 100%|██████████| 50/50 [00:06<00:00,  7.55it/s]\n",
      "Global seed set to 42\n"
     ]
    },
    {
     "name": "stdout",
     "output_type": "stream",
     "text": [
      "Data shape for DDIM sampling is (1, 4, 32, 32), eta 0.0\n",
      "Running DDIM Sampling with 50 timesteps\n"
     ]
    },
    {
     "name": "stderr",
     "output_type": "stream",
     "text": [
      "DDIM Sampler: 100%|██████████| 50/50 [00:06<00:00,  7.56it/s]\n",
      "Global seed set to 42\n"
     ]
    },
    {
     "name": "stdout",
     "output_type": "stream",
     "text": [
      "Data shape for DDIM sampling is (1, 4, 32, 32), eta 0.0\n",
      "Running DDIM Sampling with 50 timesteps\n"
     ]
    },
    {
     "name": "stderr",
     "output_type": "stream",
     "text": [
      "DDIM Sampler: 100%|██████████| 50/50 [00:06<00:00,  7.54it/s]\n",
      "Global seed set to 42\n"
     ]
    },
    {
     "name": "stdout",
     "output_type": "stream",
     "text": [
      "Data shape for DDIM sampling is (1, 4, 32, 32), eta 0.0\n",
      "Running DDIM Sampling with 50 timesteps\n"
     ]
    },
    {
     "name": "stderr",
     "output_type": "stream",
     "text": [
      "DDIM Sampler: 100%|██████████| 50/50 [00:06<00:00,  7.55it/s]\n",
      "Global seed set to 42\n"
     ]
    },
    {
     "name": "stdout",
     "output_type": "stream",
     "text": [
      "Data shape for DDIM sampling is (1, 4, 32, 32), eta 0.0\n",
      "Running DDIM Sampling with 50 timesteps\n"
     ]
    },
    {
     "name": "stderr",
     "output_type": "stream",
     "text": [
      "DDIM Sampler: 100%|██████████| 50/50 [00:06<00:00,  7.53it/s]\n",
      "Global seed set to 42\n"
     ]
    },
    {
     "name": "stdout",
     "output_type": "stream",
     "text": [
      "Data shape for DDIM sampling is (1, 4, 32, 32), eta 0.0\n",
      "Running DDIM Sampling with 50 timesteps\n"
     ]
    },
    {
     "name": "stderr",
     "output_type": "stream",
     "text": [
      "DDIM Sampler: 100%|██████████| 50/50 [00:06<00:00,  7.55it/s]\n",
      "Global seed set to 42\n"
     ]
    },
    {
     "name": "stdout",
     "output_type": "stream",
     "text": [
      "Data shape for DDIM sampling is (1, 4, 32, 32), eta 0.0\n",
      "Running DDIM Sampling with 50 timesteps\n"
     ]
    },
    {
     "name": "stderr",
     "output_type": "stream",
     "text": [
      "DDIM Sampler: 100%|██████████| 50/50 [00:06<00:00,  7.55it/s]\n",
      "Global seed set to 42\n"
     ]
    },
    {
     "name": "stdout",
     "output_type": "stream",
     "text": [
      "Data shape for DDIM sampling is (1, 4, 32, 32), eta 0.0\n",
      "Running DDIM Sampling with 50 timesteps\n"
     ]
    },
    {
     "name": "stderr",
     "output_type": "stream",
     "text": [
      "DDIM Sampler: 100%|██████████| 50/50 [00:06<00:00,  7.54it/s]\n",
      "Global seed set to 42\n"
     ]
    },
    {
     "name": "stdout",
     "output_type": "stream",
     "text": [
      "Data shape for DDIM sampling is (1, 4, 32, 32), eta 0.0\n",
      "Running DDIM Sampling with 50 timesteps\n"
     ]
    },
    {
     "name": "stderr",
     "output_type": "stream",
     "text": [
      "DDIM Sampler: 100%|██████████| 50/50 [00:06<00:00,  7.53it/s]\n",
      "Global seed set to 42\n"
     ]
    },
    {
     "name": "stdout",
     "output_type": "stream",
     "text": [
      "Data shape for DDIM sampling is (1, 4, 32, 32), eta 0.0\n",
      "Running DDIM Sampling with 50 timesteps\n"
     ]
    },
    {
     "name": "stderr",
     "output_type": "stream",
     "text": [
      "DDIM Sampler: 100%|██████████| 50/50 [00:06<00:00,  7.51it/s]\n",
      "Global seed set to 42\n"
     ]
    },
    {
     "name": "stdout",
     "output_type": "stream",
     "text": [
      "Data shape for DDIM sampling is (1, 4, 32, 32), eta 0.0\n",
      "Running DDIM Sampling with 50 timesteps\n"
     ]
    },
    {
     "name": "stderr",
     "output_type": "stream",
     "text": [
      "DDIM Sampler: 100%|██████████| 50/50 [00:06<00:00,  7.52it/s]\n",
      "Global seed set to 42\n"
     ]
    },
    {
     "name": "stdout",
     "output_type": "stream",
     "text": [
      "Data shape for DDIM sampling is (1, 4, 32, 32), eta 0.0\n",
      "Running DDIM Sampling with 50 timesteps\n"
     ]
    },
    {
     "name": "stderr",
     "output_type": "stream",
     "text": [
      "DDIM Sampler: 100%|██████████| 50/50 [00:06<00:00,  7.53it/s]\n",
      "Global seed set to 42\n"
     ]
    },
    {
     "name": "stdout",
     "output_type": "stream",
     "text": [
      "Data shape for DDIM sampling is (1, 4, 32, 32), eta 0.0\n",
      "Running DDIM Sampling with 50 timesteps\n"
     ]
    },
    {
     "name": "stderr",
     "output_type": "stream",
     "text": [
      "DDIM Sampler: 100%|██████████| 50/50 [00:06<00:00,  7.47it/s]\n",
      "Global seed set to 42\n"
     ]
    },
    {
     "name": "stdout",
     "output_type": "stream",
     "text": [
      "Data shape for DDIM sampling is (1, 4, 32, 32), eta 0.0\n",
      "Running DDIM Sampling with 50 timesteps\n"
     ]
    },
    {
     "name": "stderr",
     "output_type": "stream",
     "text": [
      "DDIM Sampler: 100%|██████████| 50/50 [00:06<00:00,  7.50it/s]\n",
      "Global seed set to 42\n"
     ]
    },
    {
     "name": "stdout",
     "output_type": "stream",
     "text": [
      "Data shape for DDIM sampling is (1, 4, 32, 32), eta 0.0\n",
      "Running DDIM Sampling with 50 timesteps\n"
     ]
    },
    {
     "name": "stderr",
     "output_type": "stream",
     "text": [
      "DDIM Sampler: 100%|██████████| 50/50 [00:06<00:00,  7.48it/s]\n",
      "Global seed set to 42\n"
     ]
    },
    {
     "name": "stdout",
     "output_type": "stream",
     "text": [
      "Data shape for DDIM sampling is (1, 4, 32, 32), eta 0.0\n",
      "Running DDIM Sampling with 50 timesteps\n"
     ]
    },
    {
     "name": "stderr",
     "output_type": "stream",
     "text": [
      "DDIM Sampler: 100%|██████████| 50/50 [00:06<00:00,  7.52it/s]\n",
      "Global seed set to 42\n"
     ]
    },
    {
     "name": "stdout",
     "output_type": "stream",
     "text": [
      "Data shape for DDIM sampling is (1, 4, 32, 32), eta 0.0\n",
      "Running DDIM Sampling with 50 timesteps\n"
     ]
    },
    {
     "name": "stderr",
     "output_type": "stream",
     "text": [
      "DDIM Sampler: 100%|██████████| 50/50 [00:06<00:00,  7.53it/s]\n",
      "Global seed set to 42\n"
     ]
    },
    {
     "name": "stdout",
     "output_type": "stream",
     "text": [
      "Data shape for DDIM sampling is (1, 4, 32, 32), eta 0.0\n",
      "Running DDIM Sampling with 50 timesteps\n"
     ]
    },
    {
     "name": "stderr",
     "output_type": "stream",
     "text": [
      "DDIM Sampler: 100%|██████████| 50/50 [00:06<00:00,  7.56it/s]\n",
      "Global seed set to 42\n"
     ]
    },
    {
     "name": "stdout",
     "output_type": "stream",
     "text": [
      "Data shape for DDIM sampling is (1, 4, 32, 32), eta 0.0\n",
      "Running DDIM Sampling with 50 timesteps\n"
     ]
    },
    {
     "name": "stderr",
     "output_type": "stream",
     "text": [
      "DDIM Sampler: 100%|██████████| 50/50 [00:06<00:00,  7.58it/s]\n",
      "Global seed set to 42\n"
     ]
    },
    {
     "name": "stdout",
     "output_type": "stream",
     "text": [
      "Data shape for DDIM sampling is (1, 4, 32, 32), eta 0.0\n",
      "Running DDIM Sampling with 50 timesteps\n"
     ]
    },
    {
     "name": "stderr",
     "output_type": "stream",
     "text": [
      "DDIM Sampler: 100%|██████████| 50/50 [00:06<00:00,  7.56it/s]\n",
      "Global seed set to 42\n"
     ]
    },
    {
     "name": "stdout",
     "output_type": "stream",
     "text": [
      "Data shape for DDIM sampling is (1, 4, 32, 32), eta 0.0\n",
      "Running DDIM Sampling with 50 timesteps\n"
     ]
    },
    {
     "name": "stderr",
     "output_type": "stream",
     "text": [
      "DDIM Sampler: 100%|██████████| 50/50 [00:06<00:00,  7.58it/s]\n",
      "Global seed set to 42\n"
     ]
    },
    {
     "name": "stdout",
     "output_type": "stream",
     "text": [
      "Data shape for DDIM sampling is (1, 4, 32, 32), eta 0.0\n",
      "Running DDIM Sampling with 50 timesteps\n"
     ]
    },
    {
     "name": "stderr",
     "output_type": "stream",
     "text": [
      "DDIM Sampler: 100%|██████████| 50/50 [00:06<00:00,  7.57it/s]\n",
      "Global seed set to 42\n"
     ]
    },
    {
     "name": "stdout",
     "output_type": "stream",
     "text": [
      "Data shape for DDIM sampling is (1, 4, 32, 32), eta 0.0\n",
      "Running DDIM Sampling with 50 timesteps\n"
     ]
    },
    {
     "name": "stderr",
     "output_type": "stream",
     "text": [
      "DDIM Sampler: 100%|██████████| 50/50 [00:06<00:00,  7.54it/s]\n",
      "Global seed set to 42\n"
     ]
    },
    {
     "name": "stdout",
     "output_type": "stream",
     "text": [
      "Data shape for DDIM sampling is (1, 4, 32, 32), eta 0.0\n",
      "Running DDIM Sampling with 50 timesteps\n"
     ]
    },
    {
     "name": "stderr",
     "output_type": "stream",
     "text": [
      "DDIM Sampler: 100%|██████████| 50/50 [00:06<00:00,  7.50it/s]\n",
      "Global seed set to 42\n"
     ]
    },
    {
     "name": "stdout",
     "output_type": "stream",
     "text": [
      "Data shape for DDIM sampling is (1, 4, 32, 32), eta 0.0\n",
      "Running DDIM Sampling with 50 timesteps\n"
     ]
    },
    {
     "name": "stderr",
     "output_type": "stream",
     "text": [
      "DDIM Sampler: 100%|██████████| 50/50 [00:06<00:00,  7.53it/s]\n",
      "Global seed set to 42\n"
     ]
    },
    {
     "name": "stdout",
     "output_type": "stream",
     "text": [
      "Data shape for DDIM sampling is (1, 4, 32, 32), eta 0.0\n",
      "Running DDIM Sampling with 50 timesteps\n"
     ]
    },
    {
     "name": "stderr",
     "output_type": "stream",
     "text": [
      "DDIM Sampler: 100%|██████████| 50/50 [00:06<00:00,  7.47it/s]\n",
      "Global seed set to 42\n"
     ]
    },
    {
     "name": "stdout",
     "output_type": "stream",
     "text": [
      "Data shape for DDIM sampling is (1, 4, 32, 32), eta 0.0\n",
      "Running DDIM Sampling with 50 timesteps\n"
     ]
    },
    {
     "name": "stderr",
     "output_type": "stream",
     "text": [
      "DDIM Sampler: 100%|██████████| 50/50 [00:06<00:00,  7.52it/s]\n",
      "Global seed set to 42\n"
     ]
    },
    {
     "name": "stdout",
     "output_type": "stream",
     "text": [
      "Data shape for DDIM sampling is (1, 4, 32, 32), eta 0.0\n",
      "Running DDIM Sampling with 50 timesteps\n"
     ]
    },
    {
     "name": "stderr",
     "output_type": "stream",
     "text": [
      "DDIM Sampler: 100%|██████████| 50/50 [00:06<00:00,  7.49it/s]\n",
      "Global seed set to 42\n"
     ]
    },
    {
     "name": "stdout",
     "output_type": "stream",
     "text": [
      "Data shape for DDIM sampling is (1, 4, 32, 32), eta 0.0\n",
      "Running DDIM Sampling with 50 timesteps\n"
     ]
    },
    {
     "name": "stderr",
     "output_type": "stream",
     "text": [
      "DDIM Sampler: 100%|██████████| 50/50 [00:06<00:00,  7.50it/s]\n",
      "Global seed set to 42\n"
     ]
    },
    {
     "name": "stdout",
     "output_type": "stream",
     "text": [
      "Data shape for DDIM sampling is (1, 4, 32, 32), eta 0.0\n",
      "Running DDIM Sampling with 50 timesteps\n"
     ]
    },
    {
     "name": "stderr",
     "output_type": "stream",
     "text": [
      "DDIM Sampler: 100%|██████████| 50/50 [00:06<00:00,  7.51it/s]\n",
      "Global seed set to 42\n"
     ]
    },
    {
     "name": "stdout",
     "output_type": "stream",
     "text": [
      "Data shape for DDIM sampling is (1, 4, 32, 32), eta 0.0\n",
      "Running DDIM Sampling with 50 timesteps\n"
     ]
    },
    {
     "name": "stderr",
     "output_type": "stream",
     "text": [
      "DDIM Sampler: 100%|██████████| 50/50 [00:06<00:00,  7.54it/s]\n",
      "Global seed set to 42\n"
     ]
    },
    {
     "name": "stdout",
     "output_type": "stream",
     "text": [
      "Data shape for DDIM sampling is (1, 4, 32, 32), eta 0.0\n",
      "Running DDIM Sampling with 50 timesteps\n"
     ]
    },
    {
     "name": "stderr",
     "output_type": "stream",
     "text": [
      "DDIM Sampler: 100%|██████████| 50/50 [00:06<00:00,  7.51it/s]\n",
      "Global seed set to 42\n"
     ]
    },
    {
     "name": "stdout",
     "output_type": "stream",
     "text": [
      "Data shape for DDIM sampling is (1, 4, 32, 32), eta 0.0\n",
      "Running DDIM Sampling with 50 timesteps\n"
     ]
    },
    {
     "name": "stderr",
     "output_type": "stream",
     "text": [
      "DDIM Sampler: 100%|██████████| 50/50 [00:06<00:00,  7.50it/s]\n",
      "Global seed set to 42\n"
     ]
    },
    {
     "name": "stdout",
     "output_type": "stream",
     "text": [
      "Data shape for DDIM sampling is (1, 4, 32, 32), eta 0.0\n",
      "Running DDIM Sampling with 50 timesteps\n"
     ]
    },
    {
     "name": "stderr",
     "output_type": "stream",
     "text": [
      "DDIM Sampler: 100%|██████████| 50/50 [00:06<00:00,  7.50it/s]\n",
      "Global seed set to 42\n"
     ]
    },
    {
     "name": "stdout",
     "output_type": "stream",
     "text": [
      "Data shape for DDIM sampling is (1, 4, 32, 32), eta 0.0\n",
      "Running DDIM Sampling with 50 timesteps\n"
     ]
    },
    {
     "name": "stderr",
     "output_type": "stream",
     "text": [
      "DDIM Sampler: 100%|██████████| 50/50 [00:06<00:00,  7.51it/s]\n",
      "Global seed set to 42\n"
     ]
    },
    {
     "name": "stdout",
     "output_type": "stream",
     "text": [
      "Data shape for DDIM sampling is (1, 4, 32, 32), eta 0.0\n",
      "Running DDIM Sampling with 50 timesteps\n"
     ]
    },
    {
     "name": "stderr",
     "output_type": "stream",
     "text": [
      "DDIM Sampler: 100%|██████████| 50/50 [00:06<00:00,  7.50it/s]\n",
      "Global seed set to 42\n"
     ]
    },
    {
     "name": "stdout",
     "output_type": "stream",
     "text": [
      "Data shape for DDIM sampling is (1, 4, 32, 32), eta 0.0\n",
      "Running DDIM Sampling with 50 timesteps\n"
     ]
    },
    {
     "name": "stderr",
     "output_type": "stream",
     "text": [
      "DDIM Sampler: 100%|██████████| 50/50 [00:06<00:00,  7.46it/s]\n",
      "Global seed set to 42\n"
     ]
    },
    {
     "name": "stdout",
     "output_type": "stream",
     "text": [
      "Data shape for DDIM sampling is (1, 4, 32, 32), eta 0.0\n",
      "Running DDIM Sampling with 50 timesteps\n"
     ]
    },
    {
     "name": "stderr",
     "output_type": "stream",
     "text": [
      "DDIM Sampler: 100%|██████████| 50/50 [00:06<00:00,  7.46it/s]\n",
      "Global seed set to 42\n"
     ]
    },
    {
     "name": "stdout",
     "output_type": "stream",
     "text": [
      "Data shape for DDIM sampling is (1, 4, 32, 32), eta 0.0\n",
      "Running DDIM Sampling with 50 timesteps\n"
     ]
    },
    {
     "name": "stderr",
     "output_type": "stream",
     "text": [
      "DDIM Sampler: 100%|██████████| 50/50 [00:06<00:00,  7.48it/s]\n",
      "Global seed set to 42\n"
     ]
    },
    {
     "name": "stdout",
     "output_type": "stream",
     "text": [
      "Data shape for DDIM sampling is (1, 4, 32, 32), eta 0.0\n",
      "Running DDIM Sampling with 50 timesteps\n"
     ]
    },
    {
     "name": "stderr",
     "output_type": "stream",
     "text": [
      "DDIM Sampler: 100%|██████████| 50/50 [00:06<00:00,  7.50it/s]\n",
      "Global seed set to 42\n"
     ]
    },
    {
     "name": "stdout",
     "output_type": "stream",
     "text": [
      "Data shape for DDIM sampling is (1, 4, 32, 32), eta 0.0\n",
      "Running DDIM Sampling with 50 timesteps\n"
     ]
    },
    {
     "name": "stderr",
     "output_type": "stream",
     "text": [
      "DDIM Sampler: 100%|██████████| 50/50 [00:06<00:00,  7.57it/s]\n",
      "Global seed set to 42\n"
     ]
    },
    {
     "name": "stdout",
     "output_type": "stream",
     "text": [
      "Data shape for DDIM sampling is (1, 4, 32, 32), eta 0.0\n",
      "Running DDIM Sampling with 50 timesteps\n"
     ]
    },
    {
     "name": "stderr",
     "output_type": "stream",
     "text": [
      "DDIM Sampler: 100%|██████████| 50/50 [00:06<00:00,  7.53it/s]\n",
      "Global seed set to 42\n"
     ]
    },
    {
     "name": "stdout",
     "output_type": "stream",
     "text": [
      "Data shape for DDIM sampling is (1, 4, 32, 32), eta 0.0\n",
      "Running DDIM Sampling with 50 timesteps\n"
     ]
    },
    {
     "name": "stderr",
     "output_type": "stream",
     "text": [
      "DDIM Sampler: 100%|██████████| 50/50 [00:06<00:00,  7.53it/s]\n",
      "Global seed set to 42\n"
     ]
    },
    {
     "name": "stdout",
     "output_type": "stream",
     "text": [
      "Data shape for DDIM sampling is (1, 4, 32, 32), eta 0.0\n",
      "Running DDIM Sampling with 50 timesteps\n"
     ]
    },
    {
     "name": "stderr",
     "output_type": "stream",
     "text": [
      "DDIM Sampler: 100%|██████████| 50/50 [00:06<00:00,  7.54it/s]\n",
      "Global seed set to 42\n"
     ]
    },
    {
     "name": "stdout",
     "output_type": "stream",
     "text": [
      "Data shape for DDIM sampling is (1, 4, 32, 32), eta 0.0\n",
      "Running DDIM Sampling with 50 timesteps\n"
     ]
    },
    {
     "name": "stderr",
     "output_type": "stream",
     "text": [
      "DDIM Sampler: 100%|██████████| 50/50 [00:06<00:00,  7.53it/s]\n",
      "Global seed set to 42\n"
     ]
    },
    {
     "name": "stdout",
     "output_type": "stream",
     "text": [
      "Data shape for DDIM sampling is (1, 4, 32, 32), eta 0.0\n",
      "Running DDIM Sampling with 50 timesteps\n"
     ]
    },
    {
     "name": "stderr",
     "output_type": "stream",
     "text": [
      "DDIM Sampler: 100%|██████████| 50/50 [00:06<00:00,  7.49it/s]\n",
      "Global seed set to 42\n"
     ]
    },
    {
     "name": "stdout",
     "output_type": "stream",
     "text": [
      "Data shape for DDIM sampling is (1, 4, 32, 32), eta 0.0\n",
      "Running DDIM Sampling with 50 timesteps\n"
     ]
    },
    {
     "name": "stderr",
     "output_type": "stream",
     "text": [
      "DDIM Sampler: 100%|██████████| 50/50 [00:06<00:00,  7.55it/s]\n",
      "Global seed set to 42\n"
     ]
    },
    {
     "name": "stdout",
     "output_type": "stream",
     "text": [
      "Data shape for DDIM sampling is (1, 4, 32, 32), eta 0.0\n",
      "Running DDIM Sampling with 50 timesteps\n"
     ]
    },
    {
     "name": "stderr",
     "output_type": "stream",
     "text": [
      "DDIM Sampler: 100%|██████████| 50/50 [00:06<00:00,  7.55it/s]\n",
      "Global seed set to 42\n"
     ]
    },
    {
     "name": "stdout",
     "output_type": "stream",
     "text": [
      "Data shape for DDIM sampling is (1, 4, 32, 32), eta 0.0\n",
      "Running DDIM Sampling with 50 timesteps\n"
     ]
    },
    {
     "name": "stderr",
     "output_type": "stream",
     "text": [
      "DDIM Sampler: 100%|██████████| 50/50 [00:06<00:00,  7.56it/s]\n",
      "Global seed set to 42\n"
     ]
    },
    {
     "name": "stdout",
     "output_type": "stream",
     "text": [
      "Data shape for DDIM sampling is (1, 4, 32, 32), eta 0.0\n",
      "Running DDIM Sampling with 50 timesteps\n"
     ]
    },
    {
     "name": "stderr",
     "output_type": "stream",
     "text": [
      "DDIM Sampler: 100%|██████████| 50/50 [00:06<00:00,  7.58it/s]\n",
      "Global seed set to 42\n"
     ]
    },
    {
     "name": "stdout",
     "output_type": "stream",
     "text": [
      "Data shape for DDIM sampling is (1, 4, 32, 32), eta 0.0\n",
      "Running DDIM Sampling with 50 timesteps\n"
     ]
    },
    {
     "name": "stderr",
     "output_type": "stream",
     "text": [
      "DDIM Sampler: 100%|██████████| 50/50 [00:06<00:00,  7.56it/s]\n",
      "Global seed set to 42\n"
     ]
    },
    {
     "name": "stdout",
     "output_type": "stream",
     "text": [
      "Data shape for DDIM sampling is (1, 4, 32, 32), eta 0.0\n",
      "Running DDIM Sampling with 50 timesteps\n"
     ]
    },
    {
     "name": "stderr",
     "output_type": "stream",
     "text": [
      "DDIM Sampler: 100%|██████████| 50/50 [00:06<00:00,  7.56it/s]\n",
      "Global seed set to 42\n"
     ]
    },
    {
     "name": "stdout",
     "output_type": "stream",
     "text": [
      "Data shape for DDIM sampling is (1, 4, 32, 32), eta 0.0\n",
      "Running DDIM Sampling with 50 timesteps\n"
     ]
    },
    {
     "name": "stderr",
     "output_type": "stream",
     "text": [
      "DDIM Sampler: 100%|██████████| 50/50 [00:06<00:00,  7.58it/s]\n",
      "Global seed set to 42\n"
     ]
    },
    {
     "name": "stdout",
     "output_type": "stream",
     "text": [
      "Data shape for DDIM sampling is (1, 4, 32, 32), eta 0.0\n",
      "Running DDIM Sampling with 50 timesteps\n"
     ]
    },
    {
     "name": "stderr",
     "output_type": "stream",
     "text": [
      "DDIM Sampler: 100%|██████████| 50/50 [00:06<00:00,  7.51it/s]\n",
      "Global seed set to 42\n"
     ]
    },
    {
     "name": "stdout",
     "output_type": "stream",
     "text": [
      "Data shape for DDIM sampling is (1, 4, 32, 32), eta 0.0\n",
      "Running DDIM Sampling with 50 timesteps\n"
     ]
    },
    {
     "name": "stderr",
     "output_type": "stream",
     "text": [
      "DDIM Sampler: 100%|██████████| 50/50 [00:06<00:00,  7.55it/s]\n",
      "Global seed set to 42\n"
     ]
    },
    {
     "name": "stdout",
     "output_type": "stream",
     "text": [
      "Data shape for DDIM sampling is (1, 4, 32, 32), eta 0.0\n",
      "Running DDIM Sampling with 50 timesteps\n"
     ]
    },
    {
     "name": "stderr",
     "output_type": "stream",
     "text": [
      "DDIM Sampler: 100%|██████████| 50/50 [00:06<00:00,  7.56it/s]\n",
      "Global seed set to 42\n"
     ]
    },
    {
     "name": "stdout",
     "output_type": "stream",
     "text": [
      "Data shape for DDIM sampling is (1, 4, 32, 32), eta 0.0\n",
      "Running DDIM Sampling with 50 timesteps\n"
     ]
    },
    {
     "name": "stderr",
     "output_type": "stream",
     "text": [
      "DDIM Sampler: 100%|██████████| 50/50 [00:06<00:00,  7.53it/s]\n",
      "Global seed set to 42\n"
     ]
    },
    {
     "name": "stdout",
     "output_type": "stream",
     "text": [
      "Data shape for DDIM sampling is (1, 4, 32, 32), eta 0.0\n",
      "Running DDIM Sampling with 50 timesteps\n"
     ]
    },
    {
     "name": "stderr",
     "output_type": "stream",
     "text": [
      "DDIM Sampler: 100%|██████████| 50/50 [00:06<00:00,  7.52it/s]\n",
      "Global seed set to 42\n"
     ]
    },
    {
     "name": "stdout",
     "output_type": "stream",
     "text": [
      "Data shape for DDIM sampling is (1, 4, 32, 32), eta 0.0\n",
      "Running DDIM Sampling with 50 timesteps\n"
     ]
    },
    {
     "name": "stderr",
     "output_type": "stream",
     "text": [
      "DDIM Sampler: 100%|██████████| 50/50 [00:06<00:00,  7.51it/s]\n",
      "Global seed set to 42\n"
     ]
    },
    {
     "name": "stdout",
     "output_type": "stream",
     "text": [
      "Data shape for DDIM sampling is (1, 4, 32, 32), eta 0.0\n",
      "Running DDIM Sampling with 50 timesteps\n"
     ]
    },
    {
     "name": "stderr",
     "output_type": "stream",
     "text": [
      "DDIM Sampler: 100%|██████████| 50/50 [00:06<00:00,  7.46it/s]\n",
      "Global seed set to 42\n"
     ]
    },
    {
     "name": "stdout",
     "output_type": "stream",
     "text": [
      "Data shape for DDIM sampling is (1, 4, 32, 32), eta 0.0\n",
      "Running DDIM Sampling with 50 timesteps\n"
     ]
    },
    {
     "name": "stderr",
     "output_type": "stream",
     "text": [
      "DDIM Sampler: 100%|██████████| 50/50 [00:06<00:00,  7.50it/s]\n",
      "Global seed set to 42\n"
     ]
    },
    {
     "name": "stdout",
     "output_type": "stream",
     "text": [
      "Data shape for DDIM sampling is (1, 4, 32, 32), eta 0.0\n",
      "Running DDIM Sampling with 50 timesteps\n"
     ]
    },
    {
     "name": "stderr",
     "output_type": "stream",
     "text": [
      "DDIM Sampler: 100%|██████████| 50/50 [00:06<00:00,  7.47it/s]\n",
      "Global seed set to 42\n"
     ]
    },
    {
     "name": "stdout",
     "output_type": "stream",
     "text": [
      "Data shape for DDIM sampling is (1, 4, 32, 32), eta 0.0\n",
      "Running DDIM Sampling with 50 timesteps\n"
     ]
    },
    {
     "name": "stderr",
     "output_type": "stream",
     "text": [
      "DDIM Sampler: 100%|██████████| 50/50 [00:06<00:00,  7.47it/s]\n",
      "Global seed set to 42\n"
     ]
    },
    {
     "name": "stdout",
     "output_type": "stream",
     "text": [
      "Data shape for DDIM sampling is (1, 4, 32, 32), eta 0.0\n",
      "Running DDIM Sampling with 50 timesteps\n"
     ]
    },
    {
     "name": "stderr",
     "output_type": "stream",
     "text": [
      "DDIM Sampler: 100%|██████████| 50/50 [00:06<00:00,  7.53it/s]\n",
      "Global seed set to 42\n"
     ]
    },
    {
     "name": "stdout",
     "output_type": "stream",
     "text": [
      "Data shape for DDIM sampling is (1, 4, 32, 32), eta 0.0\n",
      "Running DDIM Sampling with 50 timesteps\n"
     ]
    },
    {
     "name": "stderr",
     "output_type": "stream",
     "text": [
      "DDIM Sampler: 100%|██████████| 50/50 [00:06<00:00,  7.51it/s]\n",
      "Global seed set to 42\n"
     ]
    },
    {
     "name": "stdout",
     "output_type": "stream",
     "text": [
      "Data shape for DDIM sampling is (1, 4, 32, 32), eta 0.0\n",
      "Running DDIM Sampling with 50 timesteps\n"
     ]
    },
    {
     "name": "stderr",
     "output_type": "stream",
     "text": [
      "DDIM Sampler: 100%|██████████| 50/50 [00:06<00:00,  7.55it/s]\n",
      "Global seed set to 42\n"
     ]
    },
    {
     "name": "stdout",
     "output_type": "stream",
     "text": [
      "Data shape for DDIM sampling is (1, 4, 32, 32), eta 0.0\n",
      "Running DDIM Sampling with 50 timesteps\n"
     ]
    },
    {
     "name": "stderr",
     "output_type": "stream",
     "text": [
      "DDIM Sampler: 100%|██████████| 50/50 [00:06<00:00,  7.53it/s]\n",
      "Global seed set to 42\n"
     ]
    },
    {
     "name": "stdout",
     "output_type": "stream",
     "text": [
      "Data shape for DDIM sampling is (1, 4, 32, 32), eta 0.0\n",
      "Running DDIM Sampling with 50 timesteps\n"
     ]
    },
    {
     "name": "stderr",
     "output_type": "stream",
     "text": [
      "DDIM Sampler: 100%|██████████| 50/50 [00:06<00:00,  7.50it/s]\n",
      "Global seed set to 42\n"
     ]
    },
    {
     "name": "stdout",
     "output_type": "stream",
     "text": [
      "Data shape for DDIM sampling is (1, 4, 32, 32), eta 0.0\n",
      "Running DDIM Sampling with 50 timesteps\n"
     ]
    },
    {
     "name": "stderr",
     "output_type": "stream",
     "text": [
      "DDIM Sampler: 100%|██████████| 50/50 [00:06<00:00,  7.49it/s]\n",
      "Global seed set to 42\n"
     ]
    },
    {
     "name": "stdout",
     "output_type": "stream",
     "text": [
      "Data shape for DDIM sampling is (1, 4, 32, 32), eta 0.0\n",
      "Running DDIM Sampling with 50 timesteps\n"
     ]
    },
    {
     "name": "stderr",
     "output_type": "stream",
     "text": [
      "DDIM Sampler: 100%|██████████| 50/50 [00:06<00:00,  7.49it/s]\n",
      "Global seed set to 42\n"
     ]
    },
    {
     "name": "stdout",
     "output_type": "stream",
     "text": [
      "Data shape for DDIM sampling is (1, 4, 32, 32), eta 0.0\n",
      "Running DDIM Sampling with 50 timesteps\n"
     ]
    },
    {
     "name": "stderr",
     "output_type": "stream",
     "text": [
      "DDIM Sampler: 100%|██████████| 50/50 [00:06<00:00,  7.50it/s]\n"
     ]
    },
    {
     "name": "stdout",
     "output_type": "stream",
     "text": [
      "Image saved at: 64output_images_segmentation/output_image_1.png\n",
      "Image saved at: 64output_images_segmentation/output_image_2.png\n",
      "Image saved at: 64output_images_segmentation/output_image_3.png\n",
      "Image saved at: 64output_images_segmentation/output_image_4.png\n",
      "Image saved at: 64output_images_segmentation/output_image_5.png\n",
      "Image saved at: 64output_images_segmentation/output_image_6.png\n",
      "Image saved at: 64output_images_segmentation/output_image_7.png\n",
      "Image saved at: 64output_images_segmentation/output_image_8.png\n",
      "Image saved at: 64output_images_segmentation/output_image_9.png\n",
      "Image saved at: 64output_images_segmentation/output_image_10.png\n",
      "Image saved at: 64output_images_segmentation/output_image_11.png\n",
      "Image saved at: 64output_images_segmentation/output_image_12.png\n",
      "Image saved at: 64output_images_segmentation/output_image_13.png\n",
      "Image saved at: 64output_images_segmentation/output_image_14.png\n",
      "Image saved at: 64output_images_segmentation/output_image_15.png\n",
      "Image saved at: 64output_images_segmentation/output_image_16.png\n",
      "Image saved at: 64output_images_segmentation/output_image_17.png\n",
      "Image saved at: 64output_images_segmentation/output_image_18.png\n",
      "Image saved at: 64output_images_segmentation/output_image_19.png\n",
      "Image saved at: 64output_images_segmentation/output_image_20.png\n",
      "Image saved at: 64output_images_segmentation/output_image_21.png\n",
      "Image saved at: 64output_images_segmentation/output_image_22.png\n",
      "Image saved at: 64output_images_segmentation/output_image_23.png\n",
      "Image saved at: 64output_images_segmentation/output_image_24.png\n",
      "Image saved at: 64output_images_segmentation/output_image_25.png\n",
      "Image saved at: 64output_images_segmentation/output_image_26.png\n",
      "Image saved at: 64output_images_segmentation/output_image_27.png\n",
      "Image saved at: 64output_images_segmentation/output_image_28.png\n",
      "Image saved at: 64output_images_segmentation/output_image_29.png\n",
      "Image saved at: 64output_images_segmentation/output_image_30.png\n",
      "Image saved at: 64output_images_segmentation/output_image_31.png\n",
      "Image saved at: 64output_images_segmentation/output_image_32.png\n",
      "Image saved at: 64output_images_segmentation/output_image_33.png\n",
      "Image saved at: 64output_images_segmentation/output_image_34.png\n",
      "Image saved at: 64output_images_segmentation/output_image_35.png\n",
      "Image saved at: 64output_images_segmentation/output_image_36.png\n",
      "Image saved at: 64output_images_segmentation/output_image_37.png\n",
      "Image saved at: 64output_images_segmentation/output_image_38.png\n",
      "Image saved at: 64output_images_segmentation/output_image_39.png\n",
      "Image saved at: 64output_images_segmentation/output_image_40.png\n",
      "Image saved at: 64output_images_segmentation/output_image_41.png\n",
      "Image saved at: 64output_images_segmentation/output_image_42.png\n",
      "Image saved at: 64output_images_segmentation/output_image_43.png\n",
      "Image saved at: 64output_images_segmentation/output_image_44.png\n",
      "Image saved at: 64output_images_segmentation/output_image_45.png\n",
      "Image saved at: 64output_images_segmentation/output_image_46.png\n",
      "Image saved at: 64output_images_segmentation/output_image_47.png\n",
      "Image saved at: 64output_images_segmentation/output_image_48.png\n",
      "Image saved at: 64output_images_segmentation/output_image_49.png\n",
      "Image saved at: 64output_images_segmentation/output_image_50.png\n",
      "Image saved at: 64output_images_segmentation/output_image_51.png\n",
      "Image saved at: 64output_images_segmentation/output_image_52.png\n",
      "Image saved at: 64output_images_segmentation/output_image_53.png\n",
      "Image saved at: 64output_images_segmentation/output_image_54.png\n",
      "Image saved at: 64output_images_segmentation/output_image_55.png\n",
      "Image saved at: 64output_images_segmentation/output_image_56.png\n",
      "Image saved at: 64output_images_segmentation/output_image_57.png\n",
      "Image saved at: 64output_images_segmentation/output_image_58.png\n",
      "Image saved at: 64output_images_segmentation/output_image_59.png\n",
      "Image saved at: 64output_images_segmentation/output_image_60.png\n",
      "Image saved at: 64output_images_segmentation/output_image_61.png\n",
      "Image saved at: 64output_images_segmentation/output_image_62.png\n",
      "Image saved at: 64output_images_segmentation/output_image_63.png\n",
      "Image saved at: 64output_images_segmentation/output_image_64.png\n",
      "Image saved at: 64output_images_segmentation/output_image_65.png\n",
      "Image saved at: 64output_images_segmentation/output_image_66.png\n",
      "Image saved at: 64output_images_segmentation/output_image_67.png\n",
      "Image saved at: 64output_images_segmentation/output_image_68.png\n",
      "Image saved at: 64output_images_segmentation/output_image_69.png\n",
      "Image saved at: 64output_images_segmentation/output_image_70.png\n",
      "Image saved at: 64output_images_segmentation/output_image_71.png\n",
      "Image saved at: 64output_images_segmentation/output_image_72.png\n",
      "Image saved at: 64output_images_segmentation/output_image_73.png\n",
      "Image saved at: 64output_images_segmentation/output_image_74.png\n",
      "Image saved at: 64output_images_segmentation/output_image_75.png\n",
      "Image saved at: 64output_images_segmentation/output_image_76.png\n",
      "Image saved at: 64output_images_segmentation/output_image_77.png\n",
      "Image saved at: 64output_images_segmentation/output_image_78.png\n",
      "Image saved at: 64output_images_segmentation/output_image_79.png\n",
      "Image saved at: 64output_images_segmentation/output_image_80.png\n",
      "Image saved at: 64output_images_segmentation/output_image_81.png\n",
      "Image saved at: 64output_images_segmentation/output_image_82.png\n",
      "Image saved at: 64output_images_segmentation/output_image_83.png\n",
      "Image saved at: 64output_images_segmentation/output_image_84.png\n",
      "Image saved at: 64output_images_segmentation/output_image_85.png\n",
      "Image saved at: 64output_images_segmentation/output_image_86.png\n",
      "Image saved at: 64output_images_segmentation/output_image_87.png\n",
      "Image saved at: 64output_images_segmentation/output_image_88.png\n",
      "Image saved at: 64output_images_segmentation/output_image_89.png\n",
      "Image saved at: 64output_images_segmentation/output_image_90.png\n",
      "Image saved at: 64output_images_segmentation/output_image_91.png\n",
      "Image saved at: 64output_images_segmentation/output_image_92.png\n",
      "Image saved at: 64output_images_segmentation/output_image_93.png\n",
      "Image saved at: 64output_images_segmentation/output_image_94.png\n",
      "Image saved at: 64output_images_segmentation/output_image_95.png\n",
      "Image saved at: 64output_images_segmentation/output_image_96.png\n",
      "Image saved at: 64output_images_segmentation/output_image_97.png\n",
      "Image saved at: 64output_images_segmentation/output_image_98.png\n",
      "Image saved at: 64output_images_segmentation/output_image_99.png\n",
      "Image saved at: 64output_images_segmentation/output_image_100.png\n"
     ]
    }
   ],
   "source": [
    "import os\n",
    "import cv2\n",
    "\n",
    "# Define the folder containing the images\n",
    "input_folder = './output/test'  # Replace with the path to your folder\n",
    "\n",
    "# List to store loaded images\n",
    "input_images = []\n",
    "\n",
    "# Get the list of all files in the folder\n",
    "image_files = [f for f in os.listdir(input_folder) if f.endswith(('.png', '.jpg', '.jpeg', '.bmp', '.tiff')) and f.startswith('hint')]  # You can adjust file extensions\n",
    "\n",
    "# Loop through all image files\n",
    "for filename in image_files:\n",
    "    # Construct the full path to the image\n",
    "    img_path = os.path.join(input_folder, filename)\n",
    "    print(img_path)\n",
    "    # Read the image using OpenCV\n",
    "    img = cv2.imread(img_path)\n",
    "\n",
    "    if img is not None:\n",
    "        # Add the image to the list\n",
    "        input_images.append(img)\n",
    "    else:\n",
    "        print(f\"Failed to load image: {img_path}\")\n",
    "\n",
    "\n",
    "output_images = process(\n",
    "    input_images, \n",
    "    prompt=\"An indoors design\", \n",
    "    a_prompt=\"additional prompt\", \n",
    "    n_prompt=\"negative prompt\",\n",
    "    num_samples=1, \n",
    "    image_resolution=256, \n",
    "    detect_resolution=256, \n",
    "    ddim_steps=50, \n",
    "    guess_mode=False, \n",
    "    strength=1.0, \n",
    "    scale=7.5, \n",
    "    seed=42, \n",
    "    eta=0.0\n",
    ")\n",
    "\n",
    "import os\n",
    "output_folder = '64output_images_segmentation'\n",
    "if not os.path.exists(output_folder):\n",
    "    os.makedirs(output_folder)\n",
    "\n",
    "# Loop through the output images and save them\n",
    "for idx, image in enumerate(output_images):\n",
    "    # Define the file path to save the image\n",
    "    image_path = os.path.join(output_folder, f\"output_image_{idx + 1}.png\")\n",
    "    \n",
    "    # Save the image using OpenCV (assuming the image is in uint8 format)\n",
    "    cv2.imwrite(image_path, image)\n",
    "    print(f\"Image saved at: {image_path}\")\n",
    "\n",
    "# output_images will contain one processed image for each input image"
   ]
  }
 ],
 "metadata": {
  "kernelspec": {
   "display_name": "Python 3",
   "language": "python",
   "name": "python3"
  },
  "language_info": {
   "codemirror_mode": {
    "name": "ipython",
    "version": 3
   },
   "file_extension": ".py",
   "mimetype": "text/x-python",
   "name": "python",
   "nbconvert_exporter": "python",
   "pygments_lexer": "ipython3",
   "version": "3.8.18"
  }
 },
 "nbformat": 4,
 "nbformat_minor": 5
}
